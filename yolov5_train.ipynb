{
  "nbformat": 4,
  "nbformat_minor": 0,
  "metadata": {
    "colab": {
      "name": "yolov5-train.ipynb",
      "provenance": []
    },
    "kernelspec": {
      "name": "python3",
      "display_name": "Python 3"
    },
    "language_info": {
      "name": "python"
    },
    "accelerator": "GPU"
  },
  "cells": [
    {
      "cell_type": "code",
      "execution_count": null,
      "metadata": {
        "colab": {
          "base_uri": "https://localhost:8080/"
        },
        "id": "0JmIhlzzF82M",
        "outputId": "b43cd88f-64f9-4dc8-c4c2-c866ecd8d3d9"
      },
      "outputs": [
        {
          "output_type": "stream",
          "name": "stdout",
          "text": [
            "Cloning into 'yolov5'...\n",
            "remote: Enumerating objects: 10912, done.\u001b[K\n",
            "remote: Total 10912 (delta 0), reused 0 (delta 0), pack-reused 10912\u001b[K\n",
            "Receiving objects: 100% (10912/10912), 11.01 MiB | 11.42 MiB/s, done.\n",
            "Resolving deltas: 100% (7541/7541), done.\n"
          ]
        }
      ],
      "source": [
        "! git clone https://github.com/ultralytics/yolov5"
      ]
    },
    {
      "cell_type": "code",
      "source": [
        "%%capture\n",
        "! pip install -r yolov5/requirements.txt"
      ],
      "metadata": {
        "id": "eLcC25NXK4SA"
      },
      "execution_count": null,
      "outputs": []
    },
    {
      "cell_type": "code",
      "source": [
        "import torch\n",
        "from IPython.display import Image  # for displaying images\n",
        "import os \n",
        "import random\n",
        "import shutil\n",
        "from sklearn.model_selection import train_test_split\n",
        "import xml.etree.ElementTree as ET\n",
        "from xml.dom import minidom\n",
        "from tqdm import tqdm\n",
        "from PIL import Image, ImageDraw\n",
        "import numpy as np\n",
        "import matplotlib.pyplot as plt\n",
        "\n",
        "random.seed(108)"
      ],
      "metadata": {
        "id": "1wOwjTygK4Pm"
      },
      "execution_count": null,
      "outputs": []
    },
    {
      "cell_type": "code",
      "source": [
        "%cd yolov5"
      ],
      "metadata": {
        "colab": {
          "base_uri": "https://localhost:8080/"
        },
        "id": "rIZTgzeuLOX7",
        "outputId": "b28d0025-ad66-4d6a-b2e7-177c1df5efac"
      },
      "execution_count": null,
      "outputs": [
        {
          "output_type": "stream",
          "name": "stdout",
          "text": [
            "/content/yolov5\n"
          ]
        }
      ]
    },
    {
      "cell_type": "code",
      "source": [
        "! python train.py --img 1080 --cfg yolov5m.yaml --hyp hyp.scratch.yaml --batch 8 --epochs 20 --data VisDrone.yaml --weights yolov5m.pt --workers 2 --name yolo_road_det"
      ],
      "metadata": {
        "id": "T82E-E1LK4NX"
      },
      "execution_count": null,
      "outputs": []
    },
    {
      "cell_type": "code",
      "source": [
        "! zip -r /content/yolov5m-20epochs.zip /content/yolov5/runs/train/yolo_road_det"
      ],
      "metadata": {
        "colab": {
          "base_uri": "https://localhost:8080/"
        },
        "id": "rAfE67h7K4Kx",
        "outputId": "bb742ccb-f1c0-4469-f7e2-31ea64b241eb"
      },
      "execution_count": null,
      "outputs": [
        {
          "output_type": "stream",
          "name": "stdout",
          "text": [
            "  adding: content/yolov5/runs/train/yolo_road_det/ (stored 0%)\n",
            "  adding: content/yolov5/runs/train/yolo_road_det/hyp.yaml (deflated 44%)\n",
            "  adding: content/yolov5/runs/train/yolo_road_det/R_curve.png (deflated 5%)\n",
            "  adding: content/yolov5/runs/train/yolo_road_det/val_batch0_pred.jpg (deflated 1%)\n",
            "  adding: content/yolov5/runs/train/yolo_road_det/train_batch0.jpg (deflated 4%)\n",
            "  adding: content/yolov5/runs/train/yolo_road_det/val_batch2_pred.jpg (deflated 1%)\n",
            "  adding: content/yolov5/runs/train/yolo_road_det/confusion_matrix.png (deflated 15%)\n",
            "  adding: content/yolov5/runs/train/yolo_road_det/val_batch2_labels.jpg (deflated 1%)\n",
            "  adding: content/yolov5/runs/train/yolo_road_det/train_batch1.jpg (deflated 3%)\n",
            "  adding: content/yolov5/runs/train/yolo_road_det/F1_curve.png (deflated 4%)\n",
            "  adding: content/yolov5/runs/train/yolo_road_det/P_curve.png (deflated 4%)\n",
            "  adding: content/yolov5/runs/train/yolo_road_det/train_batch2.jpg (deflated 3%)\n",
            "  adding: content/yolov5/runs/train/yolo_road_det/results.png (deflated 8%)\n",
            "  adding: content/yolov5/runs/train/yolo_road_det/weights/ (stored 0%)\n",
            "  adding: content/yolov5/runs/train/yolo_road_det/weights/best.pt (deflated 8%)\n",
            "  adding: content/yolov5/runs/train/yolo_road_det/weights/last.pt (deflated 8%)\n",
            "  adding: content/yolov5/runs/train/yolo_road_det/val_batch1_pred.jpg (deflated 1%)\n",
            "  adding: content/yolov5/runs/train/yolo_road_det/labels.jpg (deflated 19%)\n",
            "  adding: content/yolov5/runs/train/yolo_road_det/events.out.tfevents.1645266527.a383e20138c0.209.0 (deflated 19%)\n",
            "  adding: content/yolov5/runs/train/yolo_road_det/labels_correlogram.jpg (deflated 18%)\n",
            "  adding: content/yolov5/runs/train/yolo_road_det/opt.yaml (deflated 46%)\n",
            "  adding: content/yolov5/runs/train/yolo_road_det/val_batch1_labels.jpg (deflated 1%)\n",
            "  adding: content/yolov5/runs/train/yolo_road_det/val_batch0_labels.jpg (deflated 1%)\n",
            "  adding: content/yolov5/runs/train/yolo_road_det/results.csv (deflated 82%)\n",
            "  adding: content/yolov5/runs/train/yolo_road_det/PR_curve.png (deflated 4%)\n"
          ]
        }
      ]
    },
    {
      "cell_type": "code",
      "source": [
        "from google.colab import drive\n",
        "drive.mount('/content/drive')"
      ],
      "metadata": {
        "colab": {
          "base_uri": "https://localhost:8080/"
        },
        "id": "AtBE7KYeK4H7",
        "outputId": "fc94deb3-325c-450b-d607-55f77bf58ca1"
      },
      "execution_count": null,
      "outputs": [
        {
          "output_type": "stream",
          "name": "stdout",
          "text": [
            "Mounted at /content/drive\n"
          ]
        }
      ]
    },
    {
      "cell_type": "code",
      "source": [
        ""
      ],
      "metadata": {
        "id": "KYtrpe45K3kq"
      },
      "execution_count": null,
      "outputs": []
    }
  ]
}